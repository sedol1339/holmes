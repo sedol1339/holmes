{
 "cells": [
  {
   "cell_type": "code",
   "execution_count": 1,
   "id": "e8e85722-6410-4ea6-8074-b743acd5fff5",
   "metadata": {},
   "outputs": [
    {
     "ename": "TypeError",
     "evalue": "the 'package' argument is required to perform a relative import for '.ds'",
     "output_type": "error",
     "traceback": [
      "\u001b[1;31m---------------------------------------------------------------------------\u001b[0m",
      "\u001b[1;31mTypeError\u001b[0m                                 Traceback (most recent call last)",
      "\u001b[1;32m~\\AppData\\Local\\Temp/ipykernel_9596/3903821426.py\u001b[0m in \u001b[0;36m<module>\u001b[1;34m\u001b[0m\n\u001b[1;32m----> 1\u001b[1;33m \u001b[1;32mfrom\u001b[0m \u001b[0mholmes\u001b[0m \u001b[1;32mimport\u001b[0m \u001b[0mdatasets\u001b[0m\u001b[1;33m\u001b[0m\u001b[1;33m\u001b[0m\u001b[0m\n\u001b[0m",
      "\u001b[1;32mc:\\users\\oleg\\desktop\\holmes\\holmes_package\\src\\holmes\\datasets.py\u001b[0m in \u001b[0;36m<module>\u001b[1;34m\u001b[0m\n\u001b[0;32m      9\u001b[0m \u001b[1;31m#from .ds import california_housing\u001b[0m\u001b[1;33m\u001b[0m\u001b[1;33m\u001b[0m\u001b[0m\n\u001b[0;32m     10\u001b[0m \u001b[1;33m\u001b[0m\u001b[0m\n\u001b[1;32m---> 11\u001b[1;33m \u001b[0mimportlib\u001b[0m\u001b[1;33m.\u001b[0m\u001b[0mimport_module\u001b[0m\u001b[1;33m(\u001b[0m\u001b[1;34m'.ds'\u001b[0m\u001b[1;33m)\u001b[0m\u001b[1;33m\u001b[0m\u001b[1;33m\u001b[0m\u001b[0m\n\u001b[0m\u001b[0;32m     12\u001b[0m \u001b[1;33m\u001b[0m\u001b[0m\n\u001b[0;32m     13\u001b[0m \u001b[1;31m#__import__('.ds.california_housing')\u001b[0m\u001b[1;33m\u001b[0m\u001b[1;33m\u001b[0m\u001b[0m\n",
      "\u001b[1;32mC:\\Program Files\\Python39\\lib\\importlib\\__init__.py\u001b[0m in \u001b[0;36mimport_module\u001b[1;34m(name, package)\u001b[0m\n\u001b[0;32m    120\u001b[0m             msg = (\"the 'package' argument is required to perform a relative \"\n\u001b[0;32m    121\u001b[0m                    \"import for {!r}\")\n\u001b[1;32m--> 122\u001b[1;33m             \u001b[1;32mraise\u001b[0m \u001b[0mTypeError\u001b[0m\u001b[1;33m(\u001b[0m\u001b[0mmsg\u001b[0m\u001b[1;33m.\u001b[0m\u001b[0mformat\u001b[0m\u001b[1;33m(\u001b[0m\u001b[0mname\u001b[0m\u001b[1;33m)\u001b[0m\u001b[1;33m)\u001b[0m\u001b[1;33m\u001b[0m\u001b[1;33m\u001b[0m\u001b[0m\n\u001b[0m\u001b[0;32m    123\u001b[0m         \u001b[1;32mfor\u001b[0m \u001b[0mcharacter\u001b[0m \u001b[1;32min\u001b[0m \u001b[0mname\u001b[0m\u001b[1;33m:\u001b[0m\u001b[1;33m\u001b[0m\u001b[1;33m\u001b[0m\u001b[0m\n\u001b[0;32m    124\u001b[0m             \u001b[1;32mif\u001b[0m \u001b[0mcharacter\u001b[0m \u001b[1;33m!=\u001b[0m \u001b[1;34m'.'\u001b[0m\u001b[1;33m:\u001b[0m\u001b[1;33m\u001b[0m\u001b[1;33m\u001b[0m\u001b[0m\n",
      "\u001b[1;31mTypeError\u001b[0m: the 'package' argument is required to perform a relative import for '.ds'"
     ]
    }
   ],
   "source": [
    "from holmes import datasets"
   ]
  },
  {
   "cell_type": "code",
   "execution_count": null,
   "id": "3cbdf5a3-bb40-4cd3-952a-dc3156ce201a",
   "metadata": {},
   "outputs": [],
   "source": [
    "from holmes import datasets\n",
    "\n",
    "print(datasets.list_names())\n",
    "higgs = datasets.get('higgs',\n",
    "        size=2**16, val_size=2**16,\n",
    "        numpy=True, #this is by default; or df=True\n",
    "        preproc='robust', #same as RobustScaler\n",
    "        preproc_cat='one_hot',\n",
    "        preproc_target='standard') #same as StandardScaler\n",
    "\n",
    "# results:\n",
    "higgs.X_train or higgs.train[0]\n",
    "higgs.y_train or higgs.train[1]\n",
    "higgs.X_val or higgs.val[0]\n",
    "higgs.y_val or higgs.val[1]\n",
    "higgs.X_test or higgs.test[0]\n",
    "higgs.evaluate #function\n",
    "higgs.preproc\n",
    "higgs.preproc_target\n",
    "higgs.features #list of feature names and types\n",
    "higgs.target #target name and type\n",
    "higgs.n_features"
   ]
  },
  {
   "cell_type": "code",
   "execution_count": 3,
   "id": "59027ce3-f612-44b0-86dd-ebaba5a5a587",
   "metadata": {},
   "outputs": [
    {
     "data": {
      "text/plain": [
       "6880.0"
      ]
     },
     "execution_count": 3,
     "metadata": {},
     "output_type": "execute_result"
    }
   ],
   "source": [
    "20640/3"
   ]
  },
  {
   "cell_type": "code",
   "execution_count": null,
   "id": "b6d8acf5-02ab-4843-9fbd-87f6d42292b9",
   "metadata": {},
   "outputs": [],
   "source": []
  }
 ],
 "metadata": {
  "kernelspec": {
   "display_name": "Python 3 (ipykernel)",
   "language": "python",
   "name": "python3"
  },
  "language_info": {
   "codemirror_mode": {
    "name": "ipython",
    "version": 3
   },
   "file_extension": ".py",
   "mimetype": "text/x-python",
   "name": "python",
   "nbconvert_exporter": "python",
   "pygments_lexer": "ipython3",
   "version": "3.9.7"
  }
 },
 "nbformat": 4,
 "nbformat_minor": 5
}
